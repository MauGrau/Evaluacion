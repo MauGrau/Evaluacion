{
  "nbformat": 4,
  "nbformat_minor": 0,
  "metadata": {
    "colab": {
      "provenance": [],
      "authorship_tag": "ABX9TyMPQA8EoRh06vWozCnLDkTZ",
      "include_colab_link": true
    },
    "kernelspec": {
      "name": "python3",
      "display_name": "Python 3"
    },
    "language_info": {
      "name": "python"
    }
  },
  "cells": [
    {
      "cell_type": "markdown",
      "metadata": {
        "id": "view-in-github",
        "colab_type": "text"
      },
      "source": [
        "<a href=\"https://colab.research.google.com/github/MauGrau/Evaluacion/blob/main/Actividad_4_1_.ipynb\" target=\"_parent\"><img src=\"https://colab.research.google.com/assets/colab-badge.svg\" alt=\"Open In Colab\"/></a>"
      ]
    },
    {
      "cell_type": "markdown",
      "source": [],
      "metadata": {
        "id": "Gb213w-xhc-L"
      }
    },
    {
      "cell_type": "code",
      "source": [
        "import pandas as pd\n",
        "df = pd.read_csv(\"Datos_Facturación (1).csv\", low_memory=False)"
      ],
      "metadata": {
        "id": "XEWJUhNChf1J"
      },
      "execution_count": 9,
      "outputs": []
    },
    {
      "cell_type": "code",
      "source": [
        "#1-CVE_CLPV      (valores: 1000 a 2000)\n",
        "filtro1 = df[(df[\"CVE_CLPV\"] >= 1000) & (df[\"CVE_CLPV\"] <= 2000)]\n",
        "filtro1\n",
        "filtro1.to_csv(\"filtro1.csv\", index=False)\n"
      ],
      "metadata": {
        "id": "NSzSQ26YmDZx"
      },
      "execution_count": 30,
      "outputs": []
    },
    {
      "cell_type": "code",
      "source": [
        "#2-CVE_VEND     (Todas las claves excepto “5” y “4”)\n",
        "filtro2 = df[~((df[\"CVE_VEND\"] == 5) & (df[\"CVE_VEND\"] == 4))]\n",
        "filtro2\n",
        "filtro2.to_csv(\"filtro2.csv\", index=False)\n"
      ],
      "metadata": {
        "id": "pKBs9IXdmMX_"
      },
      "execution_count": 29,
      "outputs": []
    },
    {
      "cell_type": "code",
      "source": [
        "#3-FECHA_ENT(Fechas de “28/02/2022”)\n",
        "filtro3 = df[df[\"FECHA_ENT\"] == \"2022-02-28\"]\n",
        "filtro3\n",
        "filtro3.to_csv(\"filtro3.csv\", index=False)\n"
      ],
      "metadata": {
        "id": "ROlUkuZ6mKpJ"
      },
      "execution_count": 27,
      "outputs": []
    },
    {
      "cell_type": "code",
      "source": [
        "#4-CAN_TOT (Cantidades menores a 5951.7)   o  STATUS (“E”)\n",
        "filtro4 = df[(df[\"CAN_TOT\"] < 5951.7) | (df[\"STATUS\"] == \"E\")]\n",
        "filtro4\n",
        "filtro4.to_csv(\"filtro4.csv\", index=False)\n"
      ],
      "metadata": {
        "id": "OIq58TGEmPrj"
      },
      "execution_count": 22,
      "outputs": []
    },
    {
      "cell_type": "code",
      "source": [
        "#5-Solo las columnas: CVE_DOC, FECHA_ENT, FECHA_VEN y CAN_TOT\n",
        "filtro5 = df[[\"CVE_DOC\", \"FECHA_ENT\", \"FECHA_VEN\", \"CAN_TOT\"]]\n",
        "filtro5\n",
        "filtro5.to_csv(\"filtro5.csv\", index=False)\n",
        "\n",
        "\n"
      ],
      "metadata": {
        "id": "szxlSp4_mS-B"
      },
      "execution_count": 24,
      "outputs": []
    },
    {
      "cell_type": "code",
      "source": [
        "#6-Solo las filas de 7001-7099\n",
        "filtro6 = df.iloc[7000:7099, :]\n",
        "filtro6\n",
        "filtro6.to_csv(\"filtro6.csv\", index=False)\n"
      ],
      "metadata": {
        "id": "_x39rTTjmTno"
      },
      "execution_count": 26,
      "outputs": []
    },
    {
      "cell_type": "code",
      "source": [
        "#7-Index= CVE_VEND (valores: 1, 2)  (columna: FECHAELAB)\n",
        "filtro7 = df.loc[(df[\"CVE_VEND\"] == 1) | (df[\"CVE_VEND\"] == 2), [\"FECHAELAB\"]]\n",
        "filtro7\n",
        "filtro7.to_csv(\"filtro7.csv\", index=False)\n"
      ],
      "metadata": {
        "id": "YWbHQ-C6mV_1"
      },
      "execution_count": 25,
      "outputs": []
    }
  ]
}